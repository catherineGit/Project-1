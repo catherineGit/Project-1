{
 "cells": [
  {
   "cell_type": "code",
   "execution_count": null,
   "id": "38fa30d9-ebad-49de-b642-58834789dea7",
   "metadata": {},
   "outputs": [],
   "source": [
    "import pandas as pd\n",
    "import yfinance as yf\n",
    "\n",
    "#Read the CSV file containing ticker symbols\n",
    "finance_data = pd.read_csv('../Project-1/BNKS_holdings.csv')\n",
    "finance_data.dropna(inplace=True)\n",
    "\n",
    "# Extracting ticker symbols into a list\n",
    "ticker_list = finance_data['Ticker'].tolist()\n",
    "\n",
    "# Define a function to fetch balance sheet data for a given ticker symbol\n",
    "def fetch_balance_sheet(ticker_symbol):\n",
    "    try:\n",
    "        ticker = yf.Ticker(ticker_symbol)\n",
    "        balance_sheet = ticker.balance_sheet\n",
    "        return balance_sheet\n",
    "    except Exception as e:\n",
    "        print(f\"Error fetching data for {ticker_symbol}: {e}\")\n",
    "        return None\n",
    "\n",
    "# Create a dictionary to store balance sheet data for each ticker\n",
    "balance_sheets = {}\n",
    "\n",
    "# Iterating over each ticker symbol and fetching its balance sheet data\n",
    "for ticker in ticker_list:\n",
    "    balance_sheet_data = fetch_balance_sheet(ticker)\n",
    "    if balance_sheet_data is not None:\n",
    "        balance_sheets[ticker] = balance_sheet_data\n",
    "\n",
    "\n",
    "# Ticker symbols for which you want to view the balance sheet\n",
    "ticker_symbols = ['BAC', 'JPM', 'WFC']\n",
    "\n",
    "# Accessing and printing the balance sheet data for each specified ticker\n",
    "for ticker_symbol in ticker_symbols:\n",
    "    bac_balance_sheet = balance_sheets.get(ticker_symbol)\n",
    "\n",
    "    if bac_balance_sheet is not None:\n",
    "        print(f\"\\nBalance Sheet for {ticker_symbol}:\")\n",
    "        print(bac_balance_sheet)\n",
    "    else:\n",
    "        print(f\"Balance sheet data for {ticker_symbol} is not available.\")"
   ]
  }
 ],
 "metadata": {
  "kernelspec": {
   "display_name": "Python 3 (ipykernel)",
   "language": "python",
   "name": "python3"
  },
  "language_info": {
   "codemirror_mode": {
    "name": "ipython",
    "version": 3
   },
   "file_extension": ".py",
   "mimetype": "text/x-python",
   "name": "python",
   "nbconvert_exporter": "python",
   "pygments_lexer": "ipython3",
   "version": "3.10.13"
  }
 },
 "nbformat": 4,
 "nbformat_minor": 5
}
