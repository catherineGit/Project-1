{
 "cells": [
  {
   "cell_type": "code",
   "execution_count": null,
   "id": "c17e997f-6838-4ef1-bab9-7e72644143bc",
   "metadata": {},
   "outputs": [],
   "source": [
    "import yfinance as yf\n",
    "import pandas as pd\n",
    "finance_data = pd.read_csv ('../Project-1/BNKS_holdings.csv')\n",
    "ticker_symbol = 'C' \n",
    "ticker = yf.Ticker(ticker_symbol)\n",
    "balance_sheet = ticker.balance_sheet\n",
    "balance_sheet.dropna().reset_index()\n",
    "\n",
    "finance_data = finance_data"
   ]
  },
  {
   "cell_type": "code",
   "execution_count": null,
   "id": "0839a42c-b2c4-46f5-8acc-03b27e1c1a84",
   "metadata": {},
   "outputs": [],
   "source": [
    "finance_data.dropna(inplace = True)\n",
    "ticker_df = finance_data['Ticker'].tolist()\n",
    "ticker_df"
   ]
  },
  {
   "cell_type": "code",
   "execution_count": null,
   "id": "f8d53c9f-2c75-41d4-92f1-1f768130ab8b",
   "metadata": {},
   "outputs": [],
   "source": [
    "#ticker_symbol = (ticker)\n",
    "#ticker_symbol.set_index('ticker')\n",
    "#df = yf.Tickers(ticker_symbol)\n",
    "\n",
    "#balance_sheet = df.balance_sheet\n",
    "#balance_sheet.dropna()\n"
   ]
  },
  {
   "cell_type": "code",
   "execution_count": null,
   "id": "f7dae917-74c8-4aec-8c00-38bda73eed5e",
   "metadata": {},
   "outputs": [],
   "source": [
    "ticker_symbol = ticker_df\n",
    "# ticker = yf.Ticker(ticker_symbol)\n",
    "# balance_sheet = ticker.balance_sheet\n",
    "#balance_sheet.dropna().reset_index()\n",
    "\n",
    "def tickerlisttostring(tickerlist):\n",
    "    string_tickers = ''\n",
    "    for ticker in tickerlist:\n",
    "        string_tickers += ticker + ' '\n",
    "    return string_tickers\n",
    "\n",
    "s = tickerlisttostring(ticker_symbol)\n",
    "print(s)\n",
    "\n",
    "temp = yf.Ticker('C')\n",
    "print(temp)\n",
    "balance_sheet = temp.balance_sheet\n",
    "print(balance_sheet)\n"
   ]
  },
  {
   "cell_type": "code",
   "execution_count": null,
   "id": "38fa30d9-ebad-49de-b642-58834789dea7",
   "metadata": {},
   "outputs": [],
   "source": []
  }
 ],
 "metadata": {
  "kernelspec": {
   "display_name": "Python 3 (ipykernel)",
   "language": "python",
   "name": "python3"
  },
  "language_info": {
   "codemirror_mode": {
    "name": "ipython",
    "version": 3
   },
   "file_extension": ".py",
   "mimetype": "text/x-python",
   "name": "python",
   "nbconvert_exporter": "python",
   "pygments_lexer": "ipython3",
   "version": "3.11.5"
  }
 },
 "nbformat": 4,
 "nbformat_minor": 5
}
