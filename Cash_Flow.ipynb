{
 "cells": [
  {
   "cell_type": "code",
<<<<<<< HEAD
   "execution_count": 5,
   "id": "3d4001da-94d3-43a9-a41a-01540225a2e2",
   "metadata": {
    "tags": []
   },
=======
   "execution_count": 6,
   "id": "c5fe941c-b5a0-4595-b16a-8db83db66303",
   "metadata": {},
>>>>>>> 754c737fdf1cf92cb4234dc0fb61b9dfb45e2831
   "outputs": [],
   "source": [
    "import pandas as pd\n",
    "import yfinance as yf\n",
    "import numpy as np\n",
    "import matplotlib.pyplot as plt\n",
    "import datetime as dt\n",
    "import hvplot.pandas"
   ]
  },
  {
   "cell_type": "code",
   "execution_count": 9,
   "id": "58bbfd57-ab9f-46d6-8541-1b6275416c07",
   "metadata": {},
   "outputs": [
    {
     "ename": "FileNotFoundError",
     "evalue": "[Errno 2] No such file or directory: './resources/Stock_Price_Data.csv'",
     "output_type": "error",
     "traceback": [
      "\u001b[1;31m---------------------------------------------------------------------------\u001b[0m",
      "\u001b[1;31mFileNotFoundError\u001b[0m                         Traceback (most recent call last)",
      "Cell \u001b[1;32mIn[9], line 4\u001b[0m\n\u001b[0;32m      2\u001b[0m bnks_data \u001b[38;5;241m=\u001b[39m pd\u001b[38;5;241m.\u001b[39mread_csv(\u001b[38;5;124m'\u001b[39m\u001b[38;5;124mresources/BNKS_holdings.csv\u001b[39m\u001b[38;5;124m'\u001b[39m)\n\u001b[0;32m      3\u001b[0m bnks_data\u001b[38;5;241m.\u001b[39mdropna(inplace\u001b[38;5;241m=\u001b[39m\u001b[38;5;28;01mTrue\u001b[39;00m)\n\u001b[1;32m----> 4\u001b[0m stock_price \u001b[38;5;241m=\u001b[39m \u001b[43mpd\u001b[49m\u001b[38;5;241;43m.\u001b[39;49m\u001b[43mread_csv\u001b[49m\u001b[43m(\u001b[49m\u001b[38;5;124;43m'\u001b[39;49m\u001b[38;5;124;43m./resources/Stock_Price_Data.csv\u001b[39;49m\u001b[38;5;124;43m'\u001b[39;49m\u001b[43m)\u001b[49m \n\u001b[0;32m      6\u001b[0m \u001b[38;5;66;03m# Extracting ticker symbols into a list\u001b[39;00m\n\u001b[0;32m      7\u001b[0m ticker_list \u001b[38;5;241m=\u001b[39m bnks_data[\u001b[38;5;124m'\u001b[39m\u001b[38;5;124mTicker\u001b[39m\u001b[38;5;124m'\u001b[39m]\u001b[38;5;241m.\u001b[39mtolist()\n",
      "File \u001b[1;32m~\\anaconda3\\envs\\dev\\lib\\site-packages\\pandas\\io\\parsers\\readers.py:912\u001b[0m, in \u001b[0;36mread_csv\u001b[1;34m(filepath_or_buffer, sep, delimiter, header, names, index_col, usecols, dtype, engine, converters, true_values, false_values, skipinitialspace, skiprows, skipfooter, nrows, na_values, keep_default_na, na_filter, verbose, skip_blank_lines, parse_dates, infer_datetime_format, keep_date_col, date_parser, date_format, dayfirst, cache_dates, iterator, chunksize, compression, thousands, decimal, lineterminator, quotechar, quoting, doublequote, escapechar, comment, encoding, encoding_errors, dialect, on_bad_lines, delim_whitespace, low_memory, memory_map, float_precision, storage_options, dtype_backend)\u001b[0m\n\u001b[0;32m    899\u001b[0m kwds_defaults \u001b[38;5;241m=\u001b[39m _refine_defaults_read(\n\u001b[0;32m    900\u001b[0m     dialect,\n\u001b[0;32m    901\u001b[0m     delimiter,\n\u001b[1;32m   (...)\u001b[0m\n\u001b[0;32m    908\u001b[0m     dtype_backend\u001b[38;5;241m=\u001b[39mdtype_backend,\n\u001b[0;32m    909\u001b[0m )\n\u001b[0;32m    910\u001b[0m kwds\u001b[38;5;241m.\u001b[39mupdate(kwds_defaults)\n\u001b[1;32m--> 912\u001b[0m \u001b[38;5;28;01mreturn\u001b[39;00m \u001b[43m_read\u001b[49m\u001b[43m(\u001b[49m\u001b[43mfilepath_or_buffer\u001b[49m\u001b[43m,\u001b[49m\u001b[43m \u001b[49m\u001b[43mkwds\u001b[49m\u001b[43m)\u001b[49m\n",
      "File \u001b[1;32m~\\anaconda3\\envs\\dev\\lib\\site-packages\\pandas\\io\\parsers\\readers.py:577\u001b[0m, in \u001b[0;36m_read\u001b[1;34m(filepath_or_buffer, kwds)\u001b[0m\n\u001b[0;32m    574\u001b[0m _validate_names(kwds\u001b[38;5;241m.\u001b[39mget(\u001b[38;5;124m\"\u001b[39m\u001b[38;5;124mnames\u001b[39m\u001b[38;5;124m\"\u001b[39m, \u001b[38;5;28;01mNone\u001b[39;00m))\n\u001b[0;32m    576\u001b[0m \u001b[38;5;66;03m# Create the parser.\u001b[39;00m\n\u001b[1;32m--> 577\u001b[0m parser \u001b[38;5;241m=\u001b[39m TextFileReader(filepath_or_buffer, \u001b[38;5;241m*\u001b[39m\u001b[38;5;241m*\u001b[39mkwds)\n\u001b[0;32m    579\u001b[0m \u001b[38;5;28;01mif\u001b[39;00m chunksize \u001b[38;5;129;01mor\u001b[39;00m iterator:\n\u001b[0;32m    580\u001b[0m     \u001b[38;5;28;01mreturn\u001b[39;00m parser\n",
      "File \u001b[1;32m~\\anaconda3\\envs\\dev\\lib\\site-packages\\pandas\\io\\parsers\\readers.py:1407\u001b[0m, in \u001b[0;36mTextFileReader.__init__\u001b[1;34m(self, f, engine, **kwds)\u001b[0m\n\u001b[0;32m   1404\u001b[0m     \u001b[38;5;28mself\u001b[39m\u001b[38;5;241m.\u001b[39moptions[\u001b[38;5;124m\"\u001b[39m\u001b[38;5;124mhas_index_names\u001b[39m\u001b[38;5;124m\"\u001b[39m] \u001b[38;5;241m=\u001b[39m kwds[\u001b[38;5;124m\"\u001b[39m\u001b[38;5;124mhas_index_names\u001b[39m\u001b[38;5;124m\"\u001b[39m]\n\u001b[0;32m   1406\u001b[0m \u001b[38;5;28mself\u001b[39m\u001b[38;5;241m.\u001b[39mhandles: IOHandles \u001b[38;5;241m|\u001b[39m \u001b[38;5;28;01mNone\u001b[39;00m \u001b[38;5;241m=\u001b[39m \u001b[38;5;28;01mNone\u001b[39;00m\n\u001b[1;32m-> 1407\u001b[0m \u001b[38;5;28mself\u001b[39m\u001b[38;5;241m.\u001b[39m_engine \u001b[38;5;241m=\u001b[39m \u001b[38;5;28;43mself\u001b[39;49m\u001b[38;5;241;43m.\u001b[39;49m\u001b[43m_make_engine\u001b[49m\u001b[43m(\u001b[49m\u001b[43mf\u001b[49m\u001b[43m,\u001b[49m\u001b[43m \u001b[49m\u001b[38;5;28;43mself\u001b[39;49m\u001b[38;5;241;43m.\u001b[39;49m\u001b[43mengine\u001b[49m\u001b[43m)\u001b[49m\n",
      "File \u001b[1;32m~\\anaconda3\\envs\\dev\\lib\\site-packages\\pandas\\io\\parsers\\readers.py:1661\u001b[0m, in \u001b[0;36mTextFileReader._make_engine\u001b[1;34m(self, f, engine)\u001b[0m\n\u001b[0;32m   1659\u001b[0m     \u001b[38;5;28;01mif\u001b[39;00m \u001b[38;5;124m\"\u001b[39m\u001b[38;5;124mb\u001b[39m\u001b[38;5;124m\"\u001b[39m \u001b[38;5;129;01mnot\u001b[39;00m \u001b[38;5;129;01min\u001b[39;00m mode:\n\u001b[0;32m   1660\u001b[0m         mode \u001b[38;5;241m+\u001b[39m\u001b[38;5;241m=\u001b[39m \u001b[38;5;124m\"\u001b[39m\u001b[38;5;124mb\u001b[39m\u001b[38;5;124m\"\u001b[39m\n\u001b[1;32m-> 1661\u001b[0m \u001b[38;5;28mself\u001b[39m\u001b[38;5;241m.\u001b[39mhandles \u001b[38;5;241m=\u001b[39m \u001b[43mget_handle\u001b[49m\u001b[43m(\u001b[49m\n\u001b[0;32m   1662\u001b[0m \u001b[43m    \u001b[49m\u001b[43mf\u001b[49m\u001b[43m,\u001b[49m\n\u001b[0;32m   1663\u001b[0m \u001b[43m    \u001b[49m\u001b[43mmode\u001b[49m\u001b[43m,\u001b[49m\n\u001b[0;32m   1664\u001b[0m \u001b[43m    \u001b[49m\u001b[43mencoding\u001b[49m\u001b[38;5;241;43m=\u001b[39;49m\u001b[38;5;28;43mself\u001b[39;49m\u001b[38;5;241;43m.\u001b[39;49m\u001b[43moptions\u001b[49m\u001b[38;5;241;43m.\u001b[39;49m\u001b[43mget\u001b[49m\u001b[43m(\u001b[49m\u001b[38;5;124;43m\"\u001b[39;49m\u001b[38;5;124;43mencoding\u001b[39;49m\u001b[38;5;124;43m\"\u001b[39;49m\u001b[43m,\u001b[49m\u001b[43m \u001b[49m\u001b[38;5;28;43;01mNone\u001b[39;49;00m\u001b[43m)\u001b[49m\u001b[43m,\u001b[49m\n\u001b[0;32m   1665\u001b[0m \u001b[43m    \u001b[49m\u001b[43mcompression\u001b[49m\u001b[38;5;241;43m=\u001b[39;49m\u001b[38;5;28;43mself\u001b[39;49m\u001b[38;5;241;43m.\u001b[39;49m\u001b[43moptions\u001b[49m\u001b[38;5;241;43m.\u001b[39;49m\u001b[43mget\u001b[49m\u001b[43m(\u001b[49m\u001b[38;5;124;43m\"\u001b[39;49m\u001b[38;5;124;43mcompression\u001b[39;49m\u001b[38;5;124;43m\"\u001b[39;49m\u001b[43m,\u001b[49m\u001b[43m \u001b[49m\u001b[38;5;28;43;01mNone\u001b[39;49;00m\u001b[43m)\u001b[49m\u001b[43m,\u001b[49m\n\u001b[0;32m   1666\u001b[0m \u001b[43m    \u001b[49m\u001b[43mmemory_map\u001b[49m\u001b[38;5;241;43m=\u001b[39;49m\u001b[38;5;28;43mself\u001b[39;49m\u001b[38;5;241;43m.\u001b[39;49m\u001b[43moptions\u001b[49m\u001b[38;5;241;43m.\u001b[39;49m\u001b[43mget\u001b[49m\u001b[43m(\u001b[49m\u001b[38;5;124;43m\"\u001b[39;49m\u001b[38;5;124;43mmemory_map\u001b[39;49m\u001b[38;5;124;43m\"\u001b[39;49m\u001b[43m,\u001b[49m\u001b[43m \u001b[49m\u001b[38;5;28;43;01mFalse\u001b[39;49;00m\u001b[43m)\u001b[49m\u001b[43m,\u001b[49m\n\u001b[0;32m   1667\u001b[0m \u001b[43m    \u001b[49m\u001b[43mis_text\u001b[49m\u001b[38;5;241;43m=\u001b[39;49m\u001b[43mis_text\u001b[49m\u001b[43m,\u001b[49m\n\u001b[0;32m   1668\u001b[0m \u001b[43m    \u001b[49m\u001b[43merrors\u001b[49m\u001b[38;5;241;43m=\u001b[39;49m\u001b[38;5;28;43mself\u001b[39;49m\u001b[38;5;241;43m.\u001b[39;49m\u001b[43moptions\u001b[49m\u001b[38;5;241;43m.\u001b[39;49m\u001b[43mget\u001b[49m\u001b[43m(\u001b[49m\u001b[38;5;124;43m\"\u001b[39;49m\u001b[38;5;124;43mencoding_errors\u001b[39;49m\u001b[38;5;124;43m\"\u001b[39;49m\u001b[43m,\u001b[49m\u001b[43m \u001b[49m\u001b[38;5;124;43m\"\u001b[39;49m\u001b[38;5;124;43mstrict\u001b[39;49m\u001b[38;5;124;43m\"\u001b[39;49m\u001b[43m)\u001b[49m\u001b[43m,\u001b[49m\n\u001b[0;32m   1669\u001b[0m \u001b[43m    \u001b[49m\u001b[43mstorage_options\u001b[49m\u001b[38;5;241;43m=\u001b[39;49m\u001b[38;5;28;43mself\u001b[39;49m\u001b[38;5;241;43m.\u001b[39;49m\u001b[43moptions\u001b[49m\u001b[38;5;241;43m.\u001b[39;49m\u001b[43mget\u001b[49m\u001b[43m(\u001b[49m\u001b[38;5;124;43m\"\u001b[39;49m\u001b[38;5;124;43mstorage_options\u001b[39;49m\u001b[38;5;124;43m\"\u001b[39;49m\u001b[43m,\u001b[49m\u001b[43m \u001b[49m\u001b[38;5;28;43;01mNone\u001b[39;49;00m\u001b[43m)\u001b[49m\u001b[43m,\u001b[49m\n\u001b[0;32m   1670\u001b[0m \u001b[43m\u001b[49m\u001b[43m)\u001b[49m\n\u001b[0;32m   1671\u001b[0m \u001b[38;5;28;01massert\u001b[39;00m \u001b[38;5;28mself\u001b[39m\u001b[38;5;241m.\u001b[39mhandles \u001b[38;5;129;01mis\u001b[39;00m \u001b[38;5;129;01mnot\u001b[39;00m \u001b[38;5;28;01mNone\u001b[39;00m\n\u001b[0;32m   1672\u001b[0m f \u001b[38;5;241m=\u001b[39m \u001b[38;5;28mself\u001b[39m\u001b[38;5;241m.\u001b[39mhandles\u001b[38;5;241m.\u001b[39mhandle\n",
      "File \u001b[1;32m~\\anaconda3\\envs\\dev\\lib\\site-packages\\pandas\\io\\common.py:859\u001b[0m, in \u001b[0;36mget_handle\u001b[1;34m(path_or_buf, mode, encoding, compression, memory_map, is_text, errors, storage_options)\u001b[0m\n\u001b[0;32m    854\u001b[0m \u001b[38;5;28;01melif\u001b[39;00m \u001b[38;5;28misinstance\u001b[39m(handle, \u001b[38;5;28mstr\u001b[39m):\n\u001b[0;32m    855\u001b[0m     \u001b[38;5;66;03m# Check whether the filename is to be opened in binary mode.\u001b[39;00m\n\u001b[0;32m    856\u001b[0m     \u001b[38;5;66;03m# Binary mode does not support 'encoding' and 'newline'.\u001b[39;00m\n\u001b[0;32m    857\u001b[0m     \u001b[38;5;28;01mif\u001b[39;00m ioargs\u001b[38;5;241m.\u001b[39mencoding \u001b[38;5;129;01mand\u001b[39;00m \u001b[38;5;124m\"\u001b[39m\u001b[38;5;124mb\u001b[39m\u001b[38;5;124m\"\u001b[39m \u001b[38;5;129;01mnot\u001b[39;00m \u001b[38;5;129;01min\u001b[39;00m ioargs\u001b[38;5;241m.\u001b[39mmode:\n\u001b[0;32m    858\u001b[0m         \u001b[38;5;66;03m# Encoding\u001b[39;00m\n\u001b[1;32m--> 859\u001b[0m         handle \u001b[38;5;241m=\u001b[39m \u001b[38;5;28;43mopen\u001b[39;49m\u001b[43m(\u001b[49m\n\u001b[0;32m    860\u001b[0m \u001b[43m            \u001b[49m\u001b[43mhandle\u001b[49m\u001b[43m,\u001b[49m\n\u001b[0;32m    861\u001b[0m \u001b[43m            \u001b[49m\u001b[43mioargs\u001b[49m\u001b[38;5;241;43m.\u001b[39;49m\u001b[43mmode\u001b[49m\u001b[43m,\u001b[49m\n\u001b[0;32m    862\u001b[0m \u001b[43m            \u001b[49m\u001b[43mencoding\u001b[49m\u001b[38;5;241;43m=\u001b[39;49m\u001b[43mioargs\u001b[49m\u001b[38;5;241;43m.\u001b[39;49m\u001b[43mencoding\u001b[49m\u001b[43m,\u001b[49m\n\u001b[0;32m    863\u001b[0m \u001b[43m            \u001b[49m\u001b[43merrors\u001b[49m\u001b[38;5;241;43m=\u001b[39;49m\u001b[43merrors\u001b[49m\u001b[43m,\u001b[49m\n\u001b[0;32m    864\u001b[0m \u001b[43m            \u001b[49m\u001b[43mnewline\u001b[49m\u001b[38;5;241;43m=\u001b[39;49m\u001b[38;5;124;43m\"\u001b[39;49m\u001b[38;5;124;43m\"\u001b[39;49m\u001b[43m,\u001b[49m\n\u001b[0;32m    865\u001b[0m \u001b[43m        \u001b[49m\u001b[43m)\u001b[49m\n\u001b[0;32m    866\u001b[0m     \u001b[38;5;28;01melse\u001b[39;00m:\n\u001b[0;32m    867\u001b[0m         \u001b[38;5;66;03m# Binary mode\u001b[39;00m\n\u001b[0;32m    868\u001b[0m         handle \u001b[38;5;241m=\u001b[39m \u001b[38;5;28mopen\u001b[39m(handle, ioargs\u001b[38;5;241m.\u001b[39mmode)\n",
      "\u001b[1;31mFileNotFoundError\u001b[0m: [Errno 2] No such file or directory: './resources/Stock_Price_Data.csv'"
     ]
    }
   ],
   "source": [
    "#Read the CSV file\n",
    "bnks_data = pd.read_csv('resources/BNKS_holdings.csv')\n",
    "bnks_data.dropna(inplace=True)\n",
    "stock_price = pd.read_csv('./resources/Stock_Price_Data.csv') \n",
    "\n",
    "# Extracting ticker symbols into a list\n",
    "ticker_list = bnks_data['Ticker'].tolist()"
   ]
  },
  {
   "cell_type": "code",
<<<<<<< HEAD
   "execution_count": 4,
   "id": "3822bbe5-6b5e-4769-b737-929163f961e8",
=======
   "execution_count": null,
   "id": "2948523b-d81c-4eb9-84f3-7c5f75048ac3",
   "metadata": {},
   "outputs": [],
   "source": [
    "selected_columns = ['Symbol','Free Cash Flow', 'Repurchase Of Capital Stock', 'Repayment Of Debt','Issuance Of Debt',\n",
    "                    'Issuance Of Capital Stock','Interest Paid Supplemental Data', 'Income Tax Paid Supplemental Data',\n",
    "                    'End Cash Position', 'Beginning Cash Position', 'Changes In Cash',\n",
    "                    'Financing Cash Flow', 'Cash Flow From Continuing Financing Activities','Net Other Financing Charges', \n",
    "                    'Cash Dividends Paid','Net Preferred Stock Issuance', 'Preferred Stock Payments','Preferred Stock Issuance', \n",
    "                    'Net Common Stock Issuance','Common Stock Payments', 'Net Issuance Payments Of Debt','Net Short Term Debt Issuance', \n",
    "                    'Net Long Term Debt Issuance','Long Term Debt Payments', 'Long Term Debt Issuance','Investing Cash Flow', \n",
    "                    'Cash Flow From Continuing Investing Activities','Net Other Investing Changes', 'Net Investment Purchase And Sale',\n",
    "                    'Sale Of Investment', 'Purchase Of Investment', 'Operating Cash Flow','Cash Flow From Continuing Operating Activities',\n",
    "                    'Change In Working Capital', 'Change In Other Working Capital','Change In Other Current Assets','Change In Payables And Accrued Expense', \n",
    "                    'Other Non Cash Items', 'Deferred Tax','Deferred Income Tax','Depreciation Amortization Depletion','Depreciation And Amortization',\n",
    "                    'Net Income From Continuing Operations']\n",
    "\n",
    "simulated_columns = ['Free Cash Flow', 'Repurchase Of Capital Stock', 'Repayment Of Debt','Issuance Of Debt',\n",
    "                    'Issuance Of Capital Stock','Interest Paid Supplemental Data', 'Income Tax Paid Supplemental Data',\n",
    "                    'End Cash Position', 'Beginning Cash Position', 'Changes In Cash',\n",
    "                    'Financing Cash Flow', 'Cash Flow From Continuing Financing Activities','Net Other Financing Charges', \n",
    "                    'Cash Dividends Paid','Net Preferred Stock Issuance', 'Preferred Stock Payments','Preferred Stock Issuance', \n",
    "                    'Net Common Stock Issuance','Common Stock Payments', 'Net Issuance Payments Of Debt','Net Short Term Debt Issuance', \n",
    "                    'Net Long Term Debt Issuance','Long Term Debt Payments', 'Long Term Debt Issuance','Investing Cash Flow', \n",
    "                    'Cash Flow From Continuing Investing Activities','Net Other Investing Changes', 'Net Investment Purchase And Sale',\n",
    "                    'Sale Of Investment', 'Purchase Of Investment', 'Operating Cash Flow','Cash Flow From Continuing Operating Activities',\n",
    "                    'Change In Working Capital', 'Change In Other Working Capital','Change In Other Current Assets','Change In Payables And Accrued Expense', \n",
    "                    'Other Non Cash Items', 'Deferred Tax','Deferred Income Tax','Depreciation Amortization Depletion','Depreciation And Amortization',\n",
    "                    'Net Income From Continuing Operations']"
   ]
  },
  {
   "cell_type": "code",
   "execution_count": 3,
   "id": "e6c15368-37f9-416c-970c-c64856ddf36e",
>>>>>>> 754c737fdf1cf92cb4234dc0fb61b9dfb45e2831
   "metadata": {
    "tags": []
   },
   "outputs": [
    {
     "ename": "NameError",
     "evalue": "name 'stock_price' is not defined",
     "output_type": "error",
     "traceback": [
      "\u001b[1;31m---------------------------------------------------------------------------\u001b[0m",
      "\u001b[1;31mNameError\u001b[0m                                 Traceback (most recent call last)",
      "Cell \u001b[1;32mIn[3], line 2\u001b[0m\n\u001b[0;32m      1\u001b[0m \u001b[38;5;66;03m#Preview the Stock price data frame\u001b[39;00m\n\u001b[1;32m----> 2\u001b[0m stock_price[\u001b[38;5;124m'\u001b[39m\u001b[38;5;124mDate\u001b[39m\u001b[38;5;124m'\u001b[39m] \u001b[38;5;241m=\u001b[39m pd\u001b[38;5;241m.\u001b[39mto_datetime(\u001b[43mstock_price\u001b[49m[\u001b[38;5;124m'\u001b[39m\u001b[38;5;124mDate\u001b[39m\u001b[38;5;124m'\u001b[39m])\n\u001b[0;32m      3\u001b[0m stock_price \u001b[38;5;241m=\u001b[39m stock_price\u001b[38;5;241m.\u001b[39mset_index(\u001b[38;5;124m'\u001b[39m\u001b[38;5;124mDate\u001b[39m\u001b[38;5;124m'\u001b[39m)\n\u001b[0;32m      4\u001b[0m stock_price \u001b[38;5;241m=\u001b[39m stock_price\u001b[38;5;241m.\u001b[39mresample(\u001b[38;5;124m'\u001b[39m\u001b[38;5;124mY\u001b[39m\u001b[38;5;124m'\u001b[39m)\u001b[38;5;241m.\u001b[39mmean()\n",
      "\u001b[1;31mNameError\u001b[0m: name 'stock_price' is not defined"
     ]
    }
   ],
   "source": [
    "#Preview the Stock price data frame\n",
    "stock_price['Date'] = pd.to_datetime(stock_price['Date'])\n",
    "stock_price = stock_price.set_index('Date')\n",
    "stock_price = stock_price.resample('Y').mean()\n",
    "stock_price = stock_price.astype('object')\n",
    "stock_price.columns = ['Bank Index', 'WFC', 'JPM', 'BAC']\n",
    "stock_price = stock_price.reset_index()\n",
    "\n",
    "bac_stock_price = stock_price.drop(['Bank Index','JPM', 'WFC'],axis=1)\n",
    "bac_stock_price.rename(columns={'BAC': 'Close','Date':'date'}, inplace=True)\n",
    "bac_stock_price['Symbol'] = 'BAC'\n",
    "\n",
    "jpm_stock_price = stock_price.drop(['Bank Index','BAC', 'WFC'],axis=1)\n",
    "jpm_stock_price.rename(columns={'JPM': 'Close','Date':'date'}, inplace=True)\n",
    "jpm_stock_price['Symbol'] = 'JPM'\n",
    "\n",
    "\n",
    "wfc_stock_price = stock_price.drop(['Bank Index','BAC', 'JPM'],axis=1)\n",
    "wfc_stock_price.rename(columns={'WFC': 'Close','Date':'date'}, inplace=True)\n",
    "wfc_stock_price['Symbol'] = 'WFC'\n",
    "\n",
    "\n",
    "combined_stock_price = pd.concat([bac_stock_price,jpm_stock_price,wfc_stock_price],axis=0)\n",
    "combined_stock_price = combined_stock_price.set_index(['Symbol','date'])\n",
    "combined_stock_price = combined_stock_price.astype('object')\n",
    "\n",
    "stock_close_pct = combined_stock_price.pct_change()\n",
    "mean_percentage_changes = stock_close_pct.mean()\n",
    "std_percentage_changes = stock_close_pct.std()\n",
    "standard_stock_price = (stock_close_pct - mean_percentage_changes) / std_percentage_changes\n",
    "standard_stock_price.fillna(0.766005, inplace=True)"
   ]
  },
  {
   "cell_type": "code",
   "execution_count": null,
   "id": "8d40b9a4-b181-4c8e-a020-ad6e5a7aea7b",
   "metadata": {},
   "outputs": [],
   "source": [
    "# Define a function to Fetch cash flow data from yfinance based on given list\n",
    "def fetch_cash_flow(ticker_symbol):\n",
    "    try:\n",
    "        ticker = yf.Ticker(ticker_symbol)\n",
    "        cash_flow = ticker.cashflow  # Fetching cash flow data\n",
    "        return cash_flow\n",
    "    except Exception as e:\n",
    "        print(f\"Error fetching data for {ticker_symbol}: {e}\")\n",
    "        return None\n",
    "\n",
    "cash_flows = {}\n",
    "\n",
    "for ticker in ticker_list:\n",
    "    cash_flow_data = fetch_cash_flow(ticker)\n",
    "    if cash_flow_data is not None:\n",
    "        cash_flows[ticker] = cash_flow_data"
   ]
  },
  {
   "cell_type": "code",
<<<<<<< HEAD
   "execution_count": 4,
   "id": "5e7ac74e-a693-4c79-8891-f31d06b7b765",
=======
   "execution_count": null,
   "id": "a8aed2ac-aa35-451a-80cb-0bb61a36b874",
   "metadata": {
    "tags": []
   },
   "outputs": [],
   "source": [
    "# Get Cash flow data for 'BAC'\n",
    "ticker_symbols = ['BAC']\n",
    "\n",
    "# Accessing and printing the cash flow data for each specified ticker\n",
    "for ticker_symbol in ticker_symbols:\n",
    "    bac_cash_flow = cash_flows.get(ticker_symbol)\n",
    "    bac = bac_cash_flow.transpose().reset_index()\n",
    "    bac['index'] = pd.to_datetime(bac['index'])\n",
    "    bac.set_index('index', inplace=True)\n",
    "    bac.index.rename('date', inplace=True)\n",
    "    bac['Symbol'] = ticker_symbol\n",
    "    bac = bac[selected_columns]\n",
    "\n",
    "# Cash flow data for 'JPM'\n",
    "ticker_symbols = ['JPM']\n",
    "\n",
    "# Accessing and printing the cash flow data for each specified ticker\n",
    "for ticker_symbol in ticker_symbols:\n",
    "    jpm_cash_flow = cash_flows.get(ticker_symbol)\n",
    "    jpm = jpm_cash_flow.transpose().reset_index()\n",
    "    jpm['index'] = pd.to_datetime(jpm['index'])\n",
    "    jpm.set_index('index', inplace=True)\n",
    "    jpm.index.rename('date', inplace=True)\n",
    "    jpm['Symbol'] = ticker_symbol\n",
    "    jpm = jpm[selected_columns]\n",
    "\n",
    "# Get Cash flow data for 'WFC'\n",
    "ticker_symbols = ['WFC']\n",
    "\n",
    "# Accessing and printing the cash flow data for each specified ticker\n",
    "for ticker_symbol in ticker_symbols:\n",
    "    wfc_cash_flow = cash_flows.get(ticker_symbol)\n",
    "    wfc = wfc_cash_flow.transpose().reset_index()\n",
    "    wfc['index'] = pd.to_datetime(wfc['index'])\n",
    "    wfc.set_index('index', inplace=True)\n",
    "    wfc.index.rename('date', inplace=True)\n",
    "    wfc['Symbol'] = ticker_symbol\n",
    "    wfc = wfc[selected_columns]"
   ]
  },
  {
   "cell_type": "code",
   "execution_count": 11,
   "id": "37ce98d8-3a0a-43a3-ad12-99867afde2ea",
>>>>>>> 754c737fdf1cf92cb4234dc0fb61b9dfb45e2831
   "metadata": {
    "tags": []
   },
   "outputs": [
    {
     "ename": "NameError",
     "evalue": "name 'simulated_columns' is not defined",
     "output_type": "error",
     "traceback": [
      "\u001b[1;31m---------------------------------------------------------------------------\u001b[0m",
      "\u001b[1;31mNameError\u001b[0m                                 Traceback (most recent call last)",
      "Cell \u001b[1;32mIn[11], line 4\u001b[0m\n\u001b[0;32m      2\u001b[0m scale_factor \u001b[38;5;241m=\u001b[39m \u001b[38;5;241m0.1\u001b[39m\n\u001b[0;32m      3\u001b[0m num_years \u001b[38;5;241m=\u001b[39m \u001b[38;5;241m5\u001b[39m\n\u001b[1;32m----> 4\u001b[0m num_data_points \u001b[38;5;241m=\u001b[39m \u001b[38;5;28mlen\u001b[39m(\u001b[43msimulated_columns\u001b[49m)\n\u001b[0;32m      6\u001b[0m \u001b[38;5;66;03m#import numpy as np\u001b[39;00m\n\u001b[0;32m      7\u001b[0m \u001b[38;5;66;03m# Generate random numbers from a normal distribution\u001b[39;00m\n\u001b[0;32m      8\u001b[0m \u001b[38;5;66;03m#normal_data = np.random.normal(loc=0.0, scale=1.0, size=1000)\u001b[39;00m\n\u001b[0;32m     11\u001b[0m simulated_data \u001b[38;5;241m=\u001b[39m np\u001b[38;5;241m.\u001b[39mrandom\u001b[38;5;241m.\u001b[39mnormal(\u001b[38;5;241m0\u001b[39m, scale_factor, size\u001b[38;5;241m=\u001b[39m(num_years, num_data_points))\n",
      "\u001b[1;31mNameError\u001b[0m: name 'simulated_columns' is not defined"
     ]
    }
   ],
   "source": [
    "#Simulate aditional data for years 2019 and 2023 to match stock_price Start and end\n",
    "scale_factor = 0.1\n",
    "num_years = 5\n",
    "num_data_points = len(simulated_columns)\n",
    "\n",
    "#import numpy as np\n",
    "# Generate random numbers from a normal distribution\n",
    "#normal_data = np.random.normal(loc=0.0, scale=1.0, size=1000)\n",
    "\n",
    "\n",
    "simulated_data = np.random.normal(0, scale_factor, size=(num_years, num_data_points))\n",
    "\n",
    "date = pd.date_range(start='2019-01-01', end='2023-12-31', freq='Y')\n",
    "\n",
    "simulated_bac = pd.DataFrame(simulated_data, index=date, columns=simulated_columns)\n",
    "simulated_bac = simulated_bac.reset_index()\n",
    "simulated_bac['index'] = pd.to_datetime(simulated_bac['index'])\n",
    "sim_bac = simulated_bac.astype('object')\n",
    "sim_bac.rename(columns={'index': 'date'}, inplace=True)\n",
    "sim_bac.set_index('date', inplace=True)\n",
    "sim_bac['Symbol'] = 'BAC'\n",
    "sim_bac = sim_bac.drop(['2020-12-31','2021-12-31','2022-12-31'],axis=0)\n",
    "\n",
    "simulated_jpm = pd.DataFrame(simulated_data, index=date, columns=simulated_columns)\n",
    "simulated_jpm = simulated_jpm.reset_index()\n",
    "simulated_jpm['index'] = pd.to_datetime(simulated_jpm['index'])\n",
    "sim_jpm = simulated_jpm.astype('object')\n",
    "sim_jpm.rename(columns={'index': 'date'}, inplace=True)\n",
    "sim_jpm.set_index('date', inplace=True)\n",
    "sim_jpm['Symbol'] = 'JPM'\n",
    "sim_jpm = sim_jpm.drop(['2020-12-31','2021-12-31','2022-12-31'],axis=0)\n",
    "\n",
    "simulated_wfc = pd.DataFrame(simulated_data, index=date, columns=simulated_columns)\n",
    "simulated_wfc = simulated_wfc.reset_index()\n",
    "simulated_wfc['index'] = pd.to_datetime(simulated_wfc['index'])\n",
    "sim_wfc = simulated_wfc.astype('object')\n",
    "sim_wfc.rename(columns={'index': 'date'}, inplace=True)\n",
    "sim_wfc.set_index('date', inplace=True)\n",
    "sim_wfc['Symbol'] = 'WFC'\n",
    "sim_wfc = sim_wfc.drop(['2020-12-31','2021-12-31','2022-12-31'],axis=0)\n",
    "sim_wfc\n",
    "\n",
    "#combine simulated cashflow\n",
    "simulated_cashflow = pd.concat([sim_bac,sim_jpm,sim_wfc],axis=0).reset_index()\n",
    "simulated_cashflow.set_index(['Symbol','date'], inplace=True)\n",
    "# Display the filtered DataFrame\n",
    "#display(simulated_cashflow)"
   ]
  },
  {
   "cell_type": "code",
   "execution_count": null,
   "id": "0a11ffbb-30df-4d8a-a091-9b3a7d9b6b44",
   "metadata": {
    "tags": []
   },
   "outputs": [],
   "source": [
    "# Combine yfinance cash flow data and create a reorganized dataframe\n",
    "combined_cashflow = pd.concat([bac,jpm,wfc],axis=0).reset_index()\n",
    "combined_cashflow.set_index(['Symbol','date'], inplace=True)"
   ]
  },
  {
   "cell_type": "code",
   "execution_count": null,
   "id": "edf4ab84-9c7c-423f-9884-926199a5a523",
   "metadata": {
    "tags": []
   },
   "outputs": [],
   "source": [
    "# Calculate the mean and standard deviation and create a new standard data frame\n",
    "mean_values = combined_cashflow.mean()\n",
    "std_values = combined_cashflow.std()\n",
    "\n",
    "# Set standardized dataframe\n",
    "standard_cc = (combined_cashflow - mean_values) / std_values\n"
   ]
  },
  {
   "cell_type": "code",
   "execution_count": null,
   "id": "e7b4497c-33dc-4864-8000-67ad0f229b98",
   "metadata": {
    "tags": []
   },
   "outputs": [],
   "source": [
    "# Merge Yfinance Api cash flow, simulated cashflow data\n",
    "banks_cashflow= pd.concat([standard_cc,simulated_cashflow],axis=0)\n",
    "banks_cashflow = banks_cashflow.reset_index().sort_values(by=['Symbol','date'])\n",
    "banks_cashflow.set_index(['Symbol','date'], inplace=True)"
   ]
  },
  {
   "cell_type": "code",
   "execution_count": null,
   "id": "6df07365-9821-4ec6-a301-c061b77a7fd4",
   "metadata": {
    "tags": []
   },
   "outputs": [],
   "source": [
    "display(banks_cashflow)"
   ]
  },
  {
   "cell_type": "code",
   "execution_count": null,
   "id": "9dc66ff8-6552-47f6-a2e4-6bbcfd663937",
   "metadata": {
    "tags": []
   },
   "outputs": [],
   "source": [
    "# Analysis and visualization\n",
    "\n",
    "net_change_in_cash = banks_cashflow['End Cash Position'] - banks_cashflow['Beginning Cash Position']\n",
    "plot = net_change_in_cash.hvplot.line(x=\"date\",title='Net Change in Cash from  2019 - 2023',by='Symbol',)\n",
    "plot\n"
   ]
  },
  {
   "cell_type": "code",
   "execution_count": null,
   "id": "8a735318-5364-498a-98f5-dd13d543e5f2",
   "metadata": {
    "tags": []
   },
   "outputs": [],
   "source": [
    "# My Analysis - The line plot indicates a negative net change in cash over time. \n",
    "#This shows a decrease in cash and cash equivalents and tells me that these banks spent more than they received.\n",
    "# Proper investigation is required but this expecditures could be a result of various factors like large investments,\n",
    "#repayment of debt, or decrease in earnings."
   ]
  },
  {
   "cell_type": "code",
   "execution_count": null,
   "id": "4319c844-c2a2-4e7f-9a3f-45dadfadaa7b",
   "metadata": {},
   "outputs": [],
   "source": [
    "#Stock price annd cash flow analysis \n",
    "#display(standard_stock_price)"
   ]
  },
  {
   "cell_type": "code",
   "execution_count": null,
   "id": "9e6e8f02-ebe9-40e2-8935-770f7c500281",
   "metadata": {
    "tags": []
   },
   "outputs": [],
   "source": [
    "bac_cash_flow.index"
   ]
  },
  {
   "cell_type": "code",
   "execution_count": null,
   "id": "a0f65dba-4846-4d83-ac32-38515d0e78f5",
   "metadata": {
    "tags": []
   },
   "outputs": [],
   "source": [
    "display(simulated_cashflow)"
   ]
  },
  {
   "cell_type": "code",
   "execution_count": null,
   "id": "f3c08a40-71d6-412a-8c25-20ed146a7490",
   "metadata": {
    "tags": []
   },
   "outputs": [],
   "source": [
    "display(cash_flow)"
   ]
  },
  {
   "cell_type": "code",
   "execution_count": null,
   "id": "5880bbbd-ca18-4af8-88f5-e8583d90a2d1",
   "metadata": {},
   "outputs": [],
   "source": []
  },
  {
   "cell_type": "code",
   "execution_count": null,
   "id": "92c37340-f8c4-4896-8b06-5ac7f53db1d4",
   "metadata": {},
   "outputs": [],
   "source": []
  }
 ],
 "metadata": {
  "kernelspec": {
   "display_name": "Python 3 (ipykernel)",
   "language": "python",
   "name": "python3"
  },
  "language_info": {
   "codemirror_mode": {
    "name": "ipython",
    "version": 3
   },
   "file_extension": ".py",
   "mimetype": "text/x-python",
   "name": "python",
   "nbconvert_exporter": "python",
   "pygments_lexer": "ipython3",
<<<<<<< Updated upstream
   "version": "3.11.7"
=======
   "version": "3.10.13"
>>>>>>> Stashed changes
  }
 },
 "nbformat": 4,
 "nbformat_minor": 5
}
